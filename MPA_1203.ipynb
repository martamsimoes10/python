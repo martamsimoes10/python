{
  "nbformat": 4,
  "nbformat_minor": 0,
  "metadata": {
    "colab": {
      "name": "MPA_1203.ipynb",
      "provenance": [],
      "authorship_tag": "ABX9TyPydzLk0YnCAJBN85qn8gm4",
      "include_colab_link": true
    },
    "kernelspec": {
      "name": "ir",
      "display_name": "R"
    },
    "language_info": {
      "name": "R"
    }
  },
  "cells": [
    {
      "cell_type": "markdown",
      "metadata": {
        "id": "view-in-github",
        "colab_type": "text"
      },
      "source": [
        "<a href=\"https://colab.research.google.com/github/martamsimoes10/python/blob/main/MPA_1203.ipynb\" target=\"_parent\"><img src=\"https://colab.research.google.com/assets/colab-badge.svg\" alt=\"Open In Colab\"/></a>"
      ]
    },
    {
      "cell_type": "code",
      "execution_count": null,
      "metadata": {
        "id": "My6qgvgFcus8"
      },
      "outputs": [],
      "source": [
        "install.packages('fpp3')"
      ]
    },
    {
      "cell_type": "code",
      "source": [
        "install.packages('skimr')"
      ],
      "metadata": {
        "id": "r5hDSB0vg21p"
      },
      "execution_count": null,
      "outputs": []
    },
    {
      "cell_type": "code",
      "source": [
        "library(fpp3)"
      ],
      "metadata": {
        "id": "YjIv1hb1c5qv"
      },
      "execution_count": null,
      "outputs": []
    },
    {
      "cell_type": "code",
      "source": [
        "library(skimr)"
      ],
      "metadata": {
        "id": "pDF2I34RhFBD"
      },
      "execution_count": null,
      "outputs": []
    },
    {
      "cell_type": "markdown",
      "source": [
        "Ex. 1"
      ],
      "metadata": {
        "id": "cTLTsEMydKXT"
      }
    },
    {
      "cell_type": "code",
      "source": [
        "? gafa_stock"
      ],
      "metadata": {
        "id": "amfVDLD5dO5w"
      },
      "execution_count": null,
      "outputs": []
    },
    {
      "cell_type": "code",
      "source": [
        "print(gafa_stock)\n",
        "#ponto de exclamação- dados irregulares (as datas não são de todos os dias)\n",
        "# a chave (key) é a coluna symbol e tem 4 valores distintos"
      ],
      "metadata": {
        "id": "4oz0xsfOea71"
      },
      "execution_count": null,
      "outputs": []
    },
    {
      "cell_type": "code",
      "source": [
        "print(tail(gafa_stock) )#ver o fim da tabela\n",
        "#responde então à pergunta do periodo temporal - desde dia 2/01 de 2014 a 31/12 de 2018"
      ],
      "metadata": {
        "id": "ELO9W-pWf6y-"
      },
      "execution_count": null,
      "outputs": []
    },
    {
      "cell_type": "code",
      "source": [
        "#quais são os 4 symbol \n",
        "gafa_stock %>%\n",
        "  distinct(Symbol) %>%\n",
        "    pull() #para ver em vetor\n",
        "\n",
        "#conseguimos ver os  valores distintos da tabela"
      ],
      "metadata": {
        "colab": {
          "base_uri": "https://localhost:8080/",
          "height": 34
        },
        "id": "QTXOKpV2gQ5P",
        "outputId": "abf94e86-08a0-4356-dc8b-96f118e7f342"
      },
      "execution_count": null,
      "outputs": [
        {
          "output_type": "display_data",
          "data": {
            "text/html": [
              "<style>\n",
              ".list-inline {list-style: none; margin:0; padding: 0}\n",
              ".list-inline>li {display: inline-block}\n",
              ".list-inline>li:not(:last-child)::after {content: \"\\00b7\"; padding: 0 .5ex}\n",
              "</style>\n",
              "<ol class=list-inline><li>'AAPL'</li><li>'AMZN'</li><li>'FB'</li><li>'GOOG'</li></ol>\n"
            ],
            "text/markdown": "1. 'AAPL'\n2. 'AMZN'\n3. 'FB'\n4. 'GOOG'\n\n\n",
            "text/latex": "\\begin{enumerate*}\n\\item 'AAPL'\n\\item 'AMZN'\n\\item 'FB'\n\\item 'GOOG'\n\\end{enumerate*}\n",
            "text/plain": [
              "[1] \"AAPL\" \"AMZN\" \"FB\"   \"GOOG\""
            ]
          },
          "metadata": {}
        }
      ]
    },
    {
      "cell_type": "code",
      "source": [
        "#mudar tamanho de tabelas\n",
        "options(width=120) #para ver as tabelas com os dados completos, porque se não muda de linha porque o maximo sao 80 carateres na predefiniçao\n",
        "skim(as_tibble(gafa_stock))"
      ],
      "metadata": {
        "id": "MqU5AvrMgzxs"
      },
      "execution_count": null,
      "outputs": []
    },
    {
      "cell_type": "code",
      "source": [
        "#autoplot(gafa_stock) #se nao especificarmos ele vai buscar a primeira\n",
        "#para mudar o tamanho dos gráficos\n",
        "options(repr.plot.width=12, repr.plot.height=6)\n",
        "autoplot(gafa_stock, Close) #aqui especificamos qual a coluna que queremos ver no eixo do y"
      ],
      "metadata": {
        "id": "YiCr96Dpiv_j"
      },
      "execution_count": null,
      "outputs": []
    },
    {
      "cell_type": "code",
      "source": [
        "#como podemos separar as series porque as de baixo estamos a ver com a escola das de cima então não dá para ver bem a tendencia\n",
        "autoplot(gafa_stock, Close) + facet_grid(vars(Symbol))\n",
        "#a variavel que vamos separar é o symbol - vou obter um grafico para cada symbol, no entanto a escola continua o mesmo para todos"
      ],
      "metadata": {
        "id": "fV1dcGtekGSJ"
      },
      "execution_count": null,
      "outputs": []
    },
    {
      "cell_type": "code",
      "source": [
        "autoplot(gafa_stock, Close) + facet_grid(vars(Symbol), scales = 'free_y') #cada escala vai ter o valores adaptado aos que estao"
      ],
      "metadata": {
        "id": "apWUZIoukWdk"
      },
      "execution_count": null,
      "outputs": []
    },
    {
      "cell_type": "markdown",
      "source": [
        "Ex. 2"
      ],
      "metadata": {
        "id": "GRHk0gPNmSJZ"
      }
    },
    {
      "cell_type": "code",
      "source": [
        "gafa_stock %>%\n",
        "  group_by(Symbol) %>% #temos de agrupara para vermos os valores de cada um, porque se não viamos só o symbol que tinha o valor close maximo\n",
        "    filter(Close == max(Close)) %>% #filtrar linhas\n",
        "      ungroup() %>% #para continuar a tratar os dados como um todo porque senao ia tratar como grupos separados -> dá jeito para p.e. a média\n",
        "        select(Symbol, Date, Close) #selecionar colunas\n",
        "    \n"
      ],
      "metadata": {
        "id": "k9GlyKftmTW-"
      },
      "execution_count": null,
      "outputs": []
    },
    {
      "cell_type": "markdown",
      "source": [
        "Ex. 8"
      ],
      "metadata": {
        "id": "vFGG-aJxoLc1"
      }
    },
    {
      "cell_type": "code",
      "source": [
        "#fazer depois"
      ],
      "metadata": {
        "id": "i2FTTXT9oNMU"
      },
      "execution_count": null,
      "outputs": []
    },
    {
      "cell_type": "markdown",
      "source": [
        "Ex. 10"
      ],
      "metadata": {
        "id": "E8Y1QzrFoV6p"
      }
    },
    {
      "cell_type": "code",
      "source": [
        "#correspondencia entre o cronograma e o correlograma\n",
        "# Feito\n",
        "#1-B\n",
        "#2-A\n",
        "#3-D\n",
        "#4-C"
      ],
      "metadata": {
        "id": "NolFh8bLoXNm"
      },
      "execution_count": null,
      "outputs": []
    }
  ]
}